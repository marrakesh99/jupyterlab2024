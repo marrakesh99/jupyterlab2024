{
 "cells": [
  {
   "cell_type": "code",
   "execution_count": 10,
   "id": "527c7b7c-4b12-4274-a433-22f495fb59a7",
   "metadata": {},
   "outputs": [
    {
     "name": "stdout",
     "output_type": "stream",
     "text": [
      "hola\n",
      "adios\n"
     ]
    }
   ],
   "source": [
    "#comentario\n",
    "print(\"hola\")\n",
    "print(\"adios\")\n"
   ]
  },
  {
   "cell_type": "code",
   "execution_count": 11,
   "id": "2ed0fdbb-0d3f-4134-97f6-bcdb02e6010f",
   "metadata": {},
   "outputs": [
    {
     "data": {
      "text/plain": [
       "int"
      ]
     },
     "execution_count": 11,
     "metadata": {},
     "output_type": "execute_result"
    }
   ],
   "source": [
    "type(1)"
   ]
  },
  {
   "cell_type": "code",
   "execution_count": 14,
   "id": "9caf6994-073d-4733-8ee7-2b39317f3ff5",
   "metadata": {},
   "outputs": [
    {
     "data": {
      "text/plain": [
       "float"
      ]
     },
     "execution_count": 14,
     "metadata": {},
     "output_type": "execute_result"
    }
   ],
   "source": [
    "type(2.3\n",
    "    )"
   ]
  },
  {
   "cell_type": "code",
   "execution_count": 33,
   "id": "d80abc40-8b6b-43a5-b8e8-c84fb1952a0a",
   "metadata": {},
   "outputs": [
    {
     "data": {
      "text/plain": [
       "'HELLO WORLD'"
      ]
     },
     "execution_count": 33,
     "metadata": {},
     "output_type": "execute_result"
    }
   ],
   "source": [
    "type(False)\n",
    "\"Hello World\".upper()"
   ]
  },
  {
   "cell_type": "code",
   "execution_count": null,
   "id": "d9e9a85a-286b-476e-8afc-0dfe1fe4e335",
   "metadata": {
    "editable": true,
    "slideshow": {
     "slide_type": ""
    },
    "tags": []
   },
   "outputs": [],
   "source": []
  },
  {
   "cell_type": "code",
   "execution_count": null,
   "id": "d2bb87a1-165c-490b-ad84-bfa846d94cef",
   "metadata": {},
   "outputs": [],
   "source": []
  },
  {
   "cell_type": "code",
   "execution_count": 1,
   "id": "0c276608-b375-446e-b492-bb7a1d15b202",
   "metadata": {},
   "outputs": [
    {
     "data": {
      "text/plain": [
       "'Hellu Wurld'"
      ]
     },
     "execution_count": 1,
     "metadata": {},
     "output_type": "execute_result"
    }
   ],
   "source": [
    " \"Hello World\".replace(\"o\",\"u\")\n"
   ]
  },
  {
   "cell_type": "code",
   "execution_count": 2,
   "id": "83686662-75b8-4cf2-b0cd-58c154217ff1",
   "metadata": {},
   "outputs": [],
   "source": [
    "import pandas as pd"
   ]
  },
  {
   "cell_type": "code",
   "execution_count": 1,
   "id": "1c211cdf-1c10-4efc-8a0a-d85f0afb7f19",
   "metadata": {},
   "outputs": [],
   "source": [
    "import pandas as pd\n"
   ]
  },
  {
   "cell_type": "code",
   "execution_count": 2,
   "id": "e9cfd25f-f163-472f-8b27-faad343e7a37",
   "metadata": {},
   "outputs": [],
   "source": [
    "import os"
   ]
  },
  {
   "cell_type": "code",
   "execution_count": 3,
   "id": "1c558d5c-8a7f-4181-8a5e-3fa506cc2d89",
   "metadata": {},
   "outputs": [
    {
     "data": {
      "text/plain": [
       "'C:\\\\Mis Proyectos\\\\jupyterlab2024'"
      ]
     },
     "execution_count": 3,
     "metadata": {},
     "output_type": "execute_result"
    }
   ],
   "source": [
    "os.getcwd()"
   ]
  },
  {
   "cell_type": "code",
   "execution_count": 4,
   "id": "374d98c1-5ef8-4128-8808-4b37ab38f16a",
   "metadata": {},
   "outputs": [
    {
     "data": {
      "text/plain": [
       "['.git', '.ipynb_checkpoints', '27mzo.ipynb']"
      ]
     },
     "execution_count": 4,
     "metadata": {},
     "output_type": "execute_result"
    }
   ],
   "source": [
    "os.listdir()"
   ]
  },
  {
   "cell_type": "code",
   "execution_count": 6,
   "id": "8011f547-c695-487e-b65a-041a0b42d3a3",
   "metadata": {},
   "outputs": [
    {
     "name": "stdout",
     "output_type": "stream",
     "text": [
      "CPU times: total: 4min 41s\n",
      "Wall time: 4min 49s\n"
     ]
    }
   ],
   "source": [
    "%time pandasdf = pd.read_excel(\"Base SEP Licenciatura 2011-2023 version corta (datos preliminares de 2023 a febrero 2024).xlsx\")"
   ]
  },
  {
   "cell_type": "code",
   "execution_count": 9,
   "id": "70c6fbb0-7e77-45e9-b872-24f4c5aa9df9",
   "metadata": {},
   "outputs": [
    {
     "data": {
      "text/plain": [
       "203.24750137329102"
      ]
     },
     "execution_count": 9,
     "metadata": {},
     "output_type": "execute_result"
    }
   ],
   "source": [
    "pandasdf.memory_usage().sum()/1024**2\n"
   ]
  },
  {
   "cell_type": "code",
   "execution_count": 10,
   "id": "ba0a501c-ce01-4408-84aa-0f7e5e2ec022",
   "metadata": {},
   "outputs": [],
   "source": [
    "import polars as pl"
   ]
  },
  {
   "cell_type": "code",
   "execution_count": 15,
   "id": "08640c8f-6f05-4c50-bf14-c09fd6bdef4c",
   "metadata": {},
   "outputs": [
    {
     "name": "stdout",
     "output_type": "stream",
     "text": [
      "CPU times: total: 2min 4s\n",
      "Wall time: 2min 4s\n"
     ]
    }
   ],
   "source": [
    "%time polarsdf = pl.read_excel(\"Base SEP Licenciatura 2011-2023 version corta (datos preliminares de 2023 a febrero 2024).xlsx\",sheet_id=1)"
   ]
  },
  {
   "cell_type": "code",
   "execution_count": 16,
   "id": "a13de9af-ddf2-4fd9-889e-ebb4650ad090",
   "metadata": {},
   "outputs": [
    {
     "data": {
      "text/plain": [
       "264.049298286438"
      ]
     },
     "execution_count": 16,
     "metadata": {},
     "output_type": "execute_result"
    }
   ],
   "source": [
    "polarsdf.estimated_size(\"mb\")"
   ]
  },
  {
   "cell_type": "code",
   "execution_count": 17,
   "id": "1ce47344-eed4-4fe0-8d6f-1a27a26cba33",
   "metadata": {},
   "outputs": [
    {
     "data": {
      "text/html": [
       "<div><style>\n",
       ".dataframe > thead > tr,\n",
       ".dataframe > tbody > tr {\n",
       "  text-align: right;\n",
       "  white-space: pre-wrap;\n",
       "}\n",
       "</style>\n",
       "<small>shape: (5, 70)</small><table border=\"1\" class=\"dataframe\"><thead><tr><th>CICLO</th><th>CLAVE INSTITUCION</th><th>NOMBRE INSTITUCION</th><th>CLAVE CCT</th><th>NOMBRE CCT</th><th>CLAVE ENTIDAD</th><th>NOMBRE ENTIDAD</th><th>CLAVE MUNICIPIO</th><th>NOMBRE MUNICIPIO</th><th>CLAVE LOCALIDAD</th><th>NOMBRE LOCALIDAD</th><th>ZONA METROPOLITANA</th><th>CONTROL</th><th>CLAVE CARRERA</th><th>NOMBRE CARRERA</th><th>CLAVE MODALIDAD</th><th>NOMBRE MODALIDAD</th><th>SUBSISTEMA_1</th><th>SUBSISTEMA_2</th><th>SUBSISTEMA_3</th><th>PRIMER INGRESO</th><th>MATRICULA TOTAL</th><th>PI Menos de 18 años H</th><th>PI Menos de 18 años M</th><th>PI Menos de 18 años T</th><th>PI 18 años H</th><th>PI 18 años M</th><th>PI 18 años T</th><th>PI 19 años H</th><th>PI 19 años M</th><th>PI 19 años T</th><th>PI 20 años H</th><th>PI 20 años M</th><th>PI 20 años T</th><th>PI 21 años H</th><th>PI 21 años M</th><th>PI 21 años T</th><th>PI 22 años H</th><th>PI 22 años M</th><th>PI 22 años T</th><th>PI 23 años H</th><th>PI 23 años M</th><th>PI 23 años T</th><th>PI 24 años H</th><th>PI 24 años M</th><th>PI 24 años T</th><th>PI 25 años H</th><th>PI 25 años M</th><th>PI 25 años T</th><th>PI 26 años H</th><th>PI 26 años M</th><th>PI 26 años M_duplicated_0</th><th>PI 27 años H</th><th>PI 27 años M</th><th>PI 27 años T</th><th>PI 28 años H</th><th>PI 28 años M</th><th>PI 28 años T</th><th>PI 29 años H</th><th>PI 29 años M</th><th>PI 29 años T</th><th>PI 30-34 años H</th><th>PI 30-34 años M</th><th>PI 30-34 años T</th><th>PI 35-39 años H</th><th>PI 35-39 años M</th><th>PI 35-39 años T</th><th>PI 40 años y más H</th><th>PI 40 años y más M</th><th>PI 40 años y más T</th></tr><tr><td>i64</td><td>str</td><td>str</td><td>str</td><td>str</td><td>i64</td><td>str</td><td>i64</td><td>str</td><td>i64</td><td>str</td><td>str</td><td>str</td><td>i64</td><td>str</td><td>i64</td><td>str</td><td>str</td><td>str</td><td>str</td><td>i64</td><td>i64</td><td>i64</td><td>i64</td><td>i64</td><td>i64</td><td>i64</td><td>i64</td><td>i64</td><td>i64</td><td>i64</td><td>i64</td><td>i64</td><td>i64</td><td>i64</td><td>i64</td><td>i64</td><td>i64</td><td>i64</td><td>i64</td><td>i64</td><td>i64</td><td>i64</td><td>i64</td><td>i64</td><td>i64</td><td>i64</td><td>i64</td><td>i64</td><td>i64</td><td>i64</td><td>i64</td><td>i64</td><td>i64</td><td>i64</td><td>i64</td><td>i64</td><td>i64</td><td>i64</td><td>i64</td><td>i64</td><td>i64</td><td>i64</td><td>i64</td><td>i64</td><td>i64</td><td>i64</td><td>i64</td><td>i64</td><td>i64</td></tr></thead><tbody><tr><td>2023</td><td>&quot;01MSU0022Z&quot;</td><td>&quot;INSTITUTO TECN…</td><td>&quot;01DIT0001Z&quot;</td><td>&quot;INSTITUTO TECN…</td><td>1</td><td>&quot;AGUASCALIENTES…</td><td>6</td><td>&quot;PABELLON DE AR…</td><td>1</td><td>&quot;PABELLON DE AR…</td><td>&quot;NO ES ZONA MET…</td><td>&quot;PUBLICO&quot;</td><td>5041100115</td><td>&quot;INGENIERIA EN …</td><td>1</td><td>&quot;ESCOLARIZADA&quot;</td><td>&quot;Educacion Supe…</td><td>&quot;Tecnologico Na…</td><td>&quot;Institutos Tec…</td><td>0</td><td>71</td><td>0</td><td>0</td><td>0</td><td>0</td><td>0</td><td>0</td><td>0</td><td>0</td><td>0</td><td>0</td><td>0</td><td>0</td><td>0</td><td>0</td><td>0</td><td>0</td><td>0</td><td>0</td><td>0</td><td>0</td><td>0</td><td>0</td><td>0</td><td>0</td><td>0</td><td>0</td><td>0</td><td>0</td><td>0</td><td>0</td><td>0</td><td>0</td><td>0</td><td>0</td><td>0</td><td>0</td><td>0</td><td>0</td><td>0</td><td>0</td><td>0</td><td>0</td><td>0</td><td>0</td><td>0</td><td>0</td><td>0</td><td>0</td></tr><tr><td>2023</td><td>&quot;01MSU0022Z&quot;</td><td>&quot;INSTITUTO TECN…</td><td>&quot;01DIT0001Z&quot;</td><td>&quot;INSTITUTO TECN…</td><td>1</td><td>&quot;AGUASCALIENTES…</td><td>6</td><td>&quot;PABELLON DE AR…</td><td>1</td><td>&quot;PABELLON DE AR…</td><td>&quot;NO ES ZONA MET…</td><td>&quot;PUBLICO&quot;</td><td>5042100050</td><td>&quot;INGENIERIA EN …</td><td>1</td><td>&quot;ESCOLARIZADA&quot;</td><td>&quot;Educacion Supe…</td><td>&quot;Tecnologico Na…</td><td>&quot;Institutos Tec…</td><td>19</td><td>130</td><td>0</td><td>2</td><td>2</td><td>7</td><td>4</td><td>11</td><td>0</td><td>2</td><td>2</td><td>0</td><td>1</td><td>1</td><td>0</td><td>1</td><td>1</td><td>1</td><td>0</td><td>1</td><td>0</td><td>1</td><td>1</td><td>0</td><td>0</td><td>0</td><td>0</td><td>0</td><td>0</td><td>0</td><td>0</td><td>0</td><td>0</td><td>0</td><td>0</td><td>0</td><td>0</td><td>0</td><td>0</td><td>0</td><td>0</td><td>0</td><td>0</td><td>0</td><td>0</td><td>0</td><td>0</td><td>0</td><td>0</td><td>0</td></tr><tr><td>2023</td><td>&quot;01MSU0022Z&quot;</td><td>&quot;INSTITUTO TECN…</td><td>&quot;01DIT0001Z&quot;</td><td>&quot;INSTITUTO TECN…</td><td>1</td><td>&quot;AGUASCALIENTES…</td><td>6</td><td>&quot;PABELLON DE AR…</td><td>1</td><td>&quot;PABELLON DE AR…</td><td>&quot;NO ES ZONA MET…</td><td>&quot;PUBLICO&quot;</td><td>5042100050</td><td>&quot;INGENIERIA EN …</td><td>3</td><td>&quot;NO ESCOLARIZAD…</td><td>&quot;Educacion Supe…</td><td>&quot;Tecnologico Na…</td><td>&quot;Institutos Tec…</td><td>67</td><td>318</td><td>2</td><td>4</td><td>6</td><td>3</td><td>13</td><td>16</td><td>0</td><td>3</td><td>3</td><td>6</td><td>4</td><td>10</td><td>2</td><td>1</td><td>3</td><td>2</td><td>3</td><td>5</td><td>0</td><td>0</td><td>0</td><td>2</td><td>4</td><td>6</td><td>1</td><td>0</td><td>1</td><td>0</td><td>0</td><td>0</td><td>1</td><td>1</td><td>2</td><td>0</td><td>1</td><td>1</td><td>0</td><td>0</td><td>0</td><td>0</td><td>2</td><td>2</td><td>1</td><td>4</td><td>5</td><td>3</td><td>4</td><td>7</td></tr><tr><td>2023</td><td>&quot;01MSU0022Z&quot;</td><td>&quot;INSTITUTO TECN…</td><td>&quot;01DIT0001Z&quot;</td><td>&quot;INSTITUTO TECN…</td><td>1</td><td>&quot;AGUASCALIENTES…</td><td>6</td><td>&quot;PABELLON DE AR…</td><td>1</td><td>&quot;PABELLON DE AR…</td><td>&quot;NO ES ZONA MET…</td><td>&quot;PUBLICO&quot;</td><td>5061000007</td><td>&quot;INGENIERIA EN …</td><td>1</td><td>&quot;ESCOLARIZADA&quot;</td><td>&quot;Educacion Supe…</td><td>&quot;Tecnologico Na…</td><td>&quot;Institutos Tec…</td><td>0</td><td>42</td><td>0</td><td>0</td><td>0</td><td>0</td><td>0</td><td>0</td><td>0</td><td>0</td><td>0</td><td>0</td><td>0</td><td>0</td><td>0</td><td>0</td><td>0</td><td>0</td><td>0</td><td>0</td><td>0</td><td>0</td><td>0</td><td>0</td><td>0</td><td>0</td><td>0</td><td>0</td><td>0</td><td>0</td><td>0</td><td>0</td><td>0</td><td>0</td><td>0</td><td>0</td><td>0</td><td>0</td><td>0</td><td>0</td><td>0</td><td>0</td><td>0</td><td>0</td><td>0</td><td>0</td><td>0</td><td>0</td><td>0</td><td>0</td></tr><tr><td>2023</td><td>&quot;01MSU0022Z&quot;</td><td>&quot;INSTITUTO TECN…</td><td>&quot;01DIT0001Z&quot;</td><td>&quot;INSTITUTO TECN…</td><td>1</td><td>&quot;AGUASCALIENTES…</td><td>6</td><td>&quot;PABELLON DE AR…</td><td>1</td><td>&quot;PABELLON DE AR…</td><td>&quot;NO ES ZONA MET…</td><td>&quot;PUBLICO&quot;</td><td>5071300004</td><td>&quot;INGENIERIA EN …</td><td>1</td><td>&quot;ESCOLARIZADA&quot;</td><td>&quot;Educacion Supe…</td><td>&quot;Tecnologico Na…</td><td>&quot;Institutos Tec…</td><td>24</td><td>111</td><td>4</td><td>0</td><td>4</td><td>12</td><td>2</td><td>14</td><td>2</td><td>0</td><td>2</td><td>2</td><td>0</td><td>2</td><td>1</td><td>0</td><td>1</td><td>0</td><td>0</td><td>0</td><td>0</td><td>0</td><td>0</td><td>0</td><td>0</td><td>0</td><td>0</td><td>0</td><td>0</td><td>1</td><td>0</td><td>1</td><td>0</td><td>0</td><td>0</td><td>0</td><td>0</td><td>0</td><td>0</td><td>0</td><td>0</td><td>0</td><td>0</td><td>0</td><td>0</td><td>0</td><td>0</td><td>0</td><td>0</td><td>0</td></tr></tbody></table></div>"
      ],
      "text/plain": [
       "shape: (5, 70)\n",
       "┌───────┬────────────────┬────────────────┬────────────┬───┬──────────┬────────────────┬───────────────┬───────────────┐\n",
       "│ CICLO ┆ CLAVE          ┆ NOMBRE         ┆ CLAVE CCT  ┆ … ┆ PI 35-39 ┆ PI 40 años y   ┆ PI 40 años y  ┆ PI 40 años y  │\n",
       "│ ---   ┆ INSTITUCION    ┆ INSTITUCION    ┆ ---        ┆   ┆ años T   ┆ más H          ┆ más M         ┆ más T         │\n",
       "│ i64   ┆ ---            ┆ ---            ┆ str        ┆   ┆ ---      ┆ ---            ┆ ---           ┆ ---           │\n",
       "│       ┆ str            ┆ str            ┆            ┆   ┆ i64      ┆ i64            ┆ i64           ┆ i64           │\n",
       "╞═══════╪════════════════╪════════════════╪════════════╪═══╪══════════╪════════════════╪═══════════════╪═══════════════╡\n",
       "│ 2023  ┆ 01MSU0022Z     ┆ INSTITUTO      ┆ 01DIT0001Z ┆ … ┆ 0        ┆ 0              ┆ 0             ┆ 0             │\n",
       "│       ┆                ┆ TECNOLOGICO DE ┆            ┆   ┆          ┆                ┆               ┆               │\n",
       "│       ┆                ┆ PABELLO…       ┆            ┆   ┆          ┆                ┆               ┆               │\n",
       "│ 2023  ┆ 01MSU0022Z     ┆ INSTITUTO      ┆ 01DIT0001Z ┆ … ┆ 0        ┆ 0              ┆ 0             ┆ 0             │\n",
       "│       ┆                ┆ TECNOLOGICO DE ┆            ┆   ┆          ┆                ┆               ┆               │\n",
       "│       ┆                ┆ PABELLO…       ┆            ┆   ┆          ┆                ┆               ┆               │\n",
       "│ 2023  ┆ 01MSU0022Z     ┆ INSTITUTO      ┆ 01DIT0001Z ┆ … ┆ 5        ┆ 3              ┆ 4             ┆ 7             │\n",
       "│       ┆                ┆ TECNOLOGICO DE ┆            ┆   ┆          ┆                ┆               ┆               │\n",
       "│       ┆                ┆ PABELLO…       ┆            ┆   ┆          ┆                ┆               ┆               │\n",
       "│ 2023  ┆ 01MSU0022Z     ┆ INSTITUTO      ┆ 01DIT0001Z ┆ … ┆ 0        ┆ 0              ┆ 0             ┆ 0             │\n",
       "│       ┆                ┆ TECNOLOGICO DE ┆            ┆   ┆          ┆                ┆               ┆               │\n",
       "│       ┆                ┆ PABELLO…       ┆            ┆   ┆          ┆                ┆               ┆               │\n",
       "│ 2023  ┆ 01MSU0022Z     ┆ INSTITUTO      ┆ 01DIT0001Z ┆ … ┆ 0        ┆ 0              ┆ 0             ┆ 0             │\n",
       "│       ┆                ┆ TECNOLOGICO DE ┆            ┆   ┆          ┆                ┆               ┆               │\n",
       "│       ┆                ┆ PABELLO…       ┆            ┆   ┆          ┆                ┆               ┆               │\n",
       "└───────┴────────────────┴────────────────┴────────────┴───┴──────────┴────────────────┴───────────────┴───────────────┘"
      ]
     },
     "execution_count": 17,
     "metadata": {},
     "output_type": "execute_result"
    }
   ],
   "source": [
    "polarsdf.head()"
   ]
  },
  {
   "cell_type": "code",
   "execution_count": 18,
   "id": "a0388acc-57dc-40ae-8b1e-aef833ce7edc",
   "metadata": {},
   "outputs": [
    {
     "name": "stdout",
     "output_type": "stream",
     "text": [
      "Rows: 380572\n",
      "Columns: 70\n",
      "$ CICLO                     <i64> 2023, 2023, 2023, 2023, 2023, 2023, 2023, 2023, 2023, 2023\n",
      "$ CLAVE INSTITUCION         <str> '01MSU0022Z', '01MSU0022Z', '01MSU0022Z', '01MSU0022Z', '01MSU0022Z', '01MSU0022Z', '01MSU0022Z', '01MSU0045K', '01MSU0045K', '01MSU0045K'\n",
      "$ NOMBRE INSTITUCION        <str> 'INSTITUTO TECNOLOGICO DE PABELLON DE ARTEAGA', 'INSTITUTO TECNOLOGICO DE PABELLON DE ARTEAGA', 'INSTITUTO TECNOLOGICO DE PABELLON DE ARTEAGA', 'INSTITUTO TECNOLOGICO DE PABELLON DE ARTEAGA', 'INSTITUTO TECNOLOGICO DE PABELLON DE ARTEAGA', 'INSTITUTO TECNOLOGICO DE PABELLON DE ARTEAGA', 'INSTITUTO TECNOLOGICO DE PABELLON DE ARTEAGA', 'INSTITUTO TECNOLOGICO EL LLANO AGUASCALIENTES', 'INSTITUTO TECNOLOGICO EL LLANO AGUASCALIENTES', 'INSTITUTO TECNOLOGICO EL LLANO AGUASCALIENTES'\n",
      "$ CLAVE CCT                 <str> '01DIT0001Z', '01DIT0001Z', '01DIT0001Z', '01DIT0001Z', '01DIT0001Z', '01DIT0001Z', '01DIT0001Z', '01DIT0002Z', '01DIT0002Z', '01DIT0002Z'\n",
      "$ NOMBRE CCT                <str> 'INSTITUTO TECNOLOGICO DE PABELLON DE ARTEAGA', 'INSTITUTO TECNOLOGICO DE PABELLON DE ARTEAGA', 'INSTITUTO TECNOLOGICO DE PABELLON DE ARTEAGA', 'INSTITUTO TECNOLOGICO DE PABELLON DE ARTEAGA', 'INSTITUTO TECNOLOGICO DE PABELLON DE ARTEAGA', 'INSTITUTO TECNOLOGICO DE PABELLON DE ARTEAGA', 'INSTITUTO TECNOLOGICO DE PABELLON DE ARTEAGA', 'INSTITUTO TECNOLOGICO EL LLANO AGUASCALIENTES', 'INSTITUTO TECNOLOGICO EL LLANO AGUASCALIENTES', 'INSTITUTO TECNOLOGICO EL LLANO AGUASCALIENTES'\n",
      "$ CLAVE ENTIDAD             <i64> 1, 1, 1, 1, 1, 1, 1, 1, 1, 1\n",
      "$ NOMBRE ENTIDAD            <str> 'AGUASCALIENTES', 'AGUASCALIENTES', 'AGUASCALIENTES', 'AGUASCALIENTES', 'AGUASCALIENTES', 'AGUASCALIENTES', 'AGUASCALIENTES', 'AGUASCALIENTES', 'AGUASCALIENTES', 'AGUASCALIENTES'\n",
      "$ CLAVE MUNICIPIO           <i64> 6, 6, 6, 6, 6, 6, 6, 10, 10, 10\n",
      "$ NOMBRE MUNICIPIO          <str> 'PABELLON DE ARTEAGA', 'PABELLON DE ARTEAGA', 'PABELLON DE ARTEAGA', 'PABELLON DE ARTEAGA', 'PABELLON DE ARTEAGA', 'PABELLON DE ARTEAGA', 'PABELLON DE ARTEAGA', 'EL LLANO', 'EL LLANO', 'EL LLANO'\n",
      "$ CLAVE LOCALIDAD           <i64> 1, 1, 1, 1, 1, 1, 1, 1, 1, 1\n",
      "$ NOMBRE LOCALIDAD          <str> 'PABELLON DE ARTEAGA', 'PABELLON DE ARTEAGA', 'PABELLON DE ARTEAGA', 'PABELLON DE ARTEAGA', 'PABELLON DE ARTEAGA', 'PABELLON DE ARTEAGA', 'PABELLON DE ARTEAGA', 'PALO ALTO', 'PALO ALTO', 'PALO ALTO'\n",
      "$ ZONA METROPOLITANA        <str> 'NO ES ZONA METROPOLITANA', 'NO ES ZONA METROPOLITANA', 'NO ES ZONA METROPOLITANA', 'NO ES ZONA METROPOLITANA', 'NO ES ZONA METROPOLITANA', 'NO ES ZONA METROPOLITANA', 'NO ES ZONA METROPOLITANA', 'NO ES ZONA METROPOLITANA', 'NO ES ZONA METROPOLITANA', 'NO ES ZONA METROPOLITANA'\n",
      "$ CONTROL                   <str> 'PUBLICO', 'PUBLICO', 'PUBLICO', 'PUBLICO', 'PUBLICO', 'PUBLICO', 'PUBLICO', 'PUBLICO', 'PUBLICO', 'PUBLICO'\n",
      "$ CLAVE CARRERA             <i64> 5041100115, 5042100050, 5042100050, 5061000007, 5071300004, 5071700019, 5071700019, 5042000002, 5042100050, 5051200024\n",
      "$ NOMBRE CARRERA            <str> 'INGENIERIA EN LOGISTICA', 'INGENIERIA EN GESTION EMPRESARIAL', 'INGENIERIA EN GESTION EMPRESARIAL', 'INGENIERIA EN TECNOLOGIAS DE LA INFORMACION Y COMUNICACION', 'INGENIERIA EN MECATRONICA', 'INGENIERIA INDUSTRIAL', 'INGENIERIA INDUSTRIAL', 'LICENCIATURA EN ADMINISTRACION', 'INGENIERIA EN GESTION EMPRESARIAL', 'INGENIERIA EN BIOTECNOLOGIA'\n",
      "$ CLAVE MODALIDAD           <i64> 1, 1, 3, 1, 1, 1, 2, 1, 1, 1\n",
      "$ NOMBRE MODALIDAD          <str> 'ESCOLARIZADA', 'ESCOLARIZADA', 'NO ESCOLARIZADA', 'ESCOLARIZADA', 'ESCOLARIZADA', 'ESCOLARIZADA', 'MIXTA', 'ESCOLARIZADA', 'ESCOLARIZADA', 'ESCOLARIZADA'\n",
      "$ SUBSISTEMA_1              <str> 'Educacion Superior', 'Educacion Superior', 'Educacion Superior', 'Educacion Superior', 'Educacion Superior', 'Educacion Superior', 'Educacion Superior', 'Educacion Superior', 'Educacion Superior', 'Educacion Superior'\n",
      "$ SUBSISTEMA_2              <str> 'Tecnologico Nacional de Mexico', 'Tecnologico Nacional de Mexico', 'Tecnologico Nacional de Mexico', 'Tecnologico Nacional de Mexico', 'Tecnologico Nacional de Mexico', 'Tecnologico Nacional de Mexico', 'Tecnologico Nacional de Mexico', 'Tecnologico Nacional de Mexico', 'Tecnologico Nacional de Mexico', 'Tecnologico Nacional de Mexico'\n",
      "$ SUBSISTEMA_3              <str> 'Institutos Tecnologicos Federales', 'Institutos Tecnologicos Federales', 'Institutos Tecnologicos Federales', 'Institutos Tecnologicos Federales', 'Institutos Tecnologicos Federales', 'Institutos Tecnologicos Federales', 'Institutos Tecnologicos Federales', 'Institutos Tecnologicos Federales', 'Institutos Tecnologicos Federales', 'Institutos Tecnologicos Federales'\n",
      "$ PRIMER INGRESO            <i64> 0, 19, 67, 0, 24, 40, 85, 40, 16, 10\n",
      "$ MATRICULA TOTAL           <i64> 71, 130, 318, 42, 111, 181, 362, 165, 145, 61\n",
      "$ PI Menos de 18 años H     <i64> 0, 0, 2, 0, 4, 7, 1, 3, 0, 0\n",
      "$ PI Menos de 18 años M     <i64> 0, 2, 4, 0, 0, 3, 1, 7, 1, 2\n",
      "$ PI Menos de 18 años T     <i64> 0, 2, 6, 0, 4, 10, 2, 10, 1, 2\n",
      "$ PI 18 años H              <i64> 0, 7, 3, 0, 12, 16, 11, 5, 4, 2\n",
      "$ PI 18 años M              <i64> 0, 4, 13, 0, 2, 10, 10, 6, 5, 5\n",
      "$ PI 18 años T              <i64> 0, 11, 16, 0, 14, 26, 21, 11, 9, 7\n",
      "$ PI 19 años H              <i64> 0, 0, 0, 0, 2, 1, 6, 2, 0, 0\n",
      "$ PI 19 años M              <i64> 0, 2, 3, 0, 0, 1, 3, 2, 0, 0\n",
      "$ PI 19 años T              <i64> 0, 2, 3, 0, 2, 2, 9, 4, 0, 0\n",
      "$ PI 20 años H              <i64> 0, 0, 6, 0, 2, 0, 7, 0, 4, 0\n",
      "$ PI 20 años M              <i64> 0, 1, 4, 0, 0, 0, 5, 2, 1, 0\n",
      "$ PI 20 años T              <i64> 0, 1, 10, 0, 2, 0, 12, 2, 5, 0\n",
      "$ PI 21 años H              <i64> 0, 0, 2, 0, 1, 0, 2, 0, 0, 0\n",
      "$ PI 21 años M              <i64> 0, 1, 1, 0, 0, 0, 2, 2, 1, 0\n",
      "$ PI 21 años T              <i64> 0, 1, 3, 0, 1, 0, 4, 2, 1, 0\n",
      "$ PI 22 años H              <i64> 0, 1, 2, 0, 0, 0, 6, 0, 0, 0\n",
      "$ PI 22 años M              <i64> 0, 0, 3, 0, 0, 0, 1, 2, 0, 0\n",
      "$ PI 22 años T              <i64> 0, 1, 5, 0, 0, 0, 7, 2, 0, 0\n",
      "$ PI 23 años H              <i64> 0, 0, 0, 0, 0, 1, 1, 1, 0, 1\n",
      "$ PI 23 años M              <i64> 0, 1, 0, 0, 0, 0, 0, 1, 0, 0\n",
      "$ PI 23 años T              <i64> 0, 1, 0, 0, 0, 1, 1, 2, 0, 1\n",
      "$ PI 24 años H              <i64> 0, 0, 2, 0, 0, 0, 2, 0, 0, 0\n",
      "$ PI 24 años M              <i64> 0, 0, 4, 0, 0, 0, 0, 0, 0, 0\n",
      "$ PI 24 años T              <i64> 0, 0, 6, 0, 0, 0, 2, 0, 0, 0\n",
      "$ PI 25 años H              <i64> 0, 0, 1, 0, 0, 0, 0, 0, 0, 0\n",
      "$ PI 25 años M              <i64> 0, 0, 0, 0, 0, 0, 1, 0, 0, 0\n",
      "$ PI 25 años T              <i64> 0, 0, 1, 0, 0, 0, 1, 0, 0, 0\n",
      "$ PI 26 años H              <i64> 0, 0, 0, 0, 1, 0, 1, 0, 0, 0\n",
      "$ PI 26 años M              <i64> 0, 0, 0, 0, 0, 0, 1, 0, 0, 0\n",
      "$ PI 26 años M_duplicated_0 <i64> 0, 0, 0, 0, 1, 0, 2, 0, 0, 0\n",
      "$ PI 27 años H              <i64> 0, 0, 1, 0, 0, 0, 1, 0, 0, 0\n",
      "$ PI 27 años M              <i64> 0, 0, 1, 0, 0, 0, 0, 0, 0, 0\n",
      "$ PI 27 años T              <i64> 0, 0, 2, 0, 0, 0, 1, 0, 0, 0\n",
      "$ PI 28 años H              <i64> 0, 0, 0, 0, 0, 0, 1, 0, 0, 0\n",
      "$ PI 28 años M              <i64> 0, 0, 1, 0, 0, 0, 0, 1, 0, 0\n",
      "$ PI 28 años T              <i64> 0, 0, 1, 0, 0, 0, 1, 1, 0, 0\n",
      "$ PI 29 años H              <i64> 0, 0, 0, 0, 0, 0, 3, 0, 0, 0\n",
      "$ PI 29 años M              <i64> 0, 0, 0, 0, 0, 0, 3, 0, 0, 0\n",
      "$ PI 29 años T              <i64> 0, 0, 0, 0, 0, 0, 6, 0, 0, 0\n",
      "$ PI 30-34 años H           <i64> 0, 0, 0, 0, 0, 1, 6, 1, 0, 0\n",
      "$ PI 30-34 años M           <i64> 0, 0, 2, 0, 0, 0, 1, 2, 0, 0\n",
      "$ PI 30-34 años T           <i64> 0, 0, 2, 0, 0, 1, 7, 3, 0, 0\n",
      "$ PI 35-39 años H           <i64> 0, 0, 1, 0, 0, 0, 5, 0, 0, 0\n",
      "$ PI 35-39 años M           <i64> 0, 0, 4, 0, 0, 0, 1, 0, 0, 0\n",
      "$ PI 35-39 años T           <i64> 0, 0, 5, 0, 0, 0, 6, 0, 0, 0\n",
      "$ PI 40 años y más H        <i64> 0, 0, 3, 0, 0, 0, 3, 0, 0, 0\n",
      "$ PI 40 años y más M        <i64> 0, 0, 4, 0, 0, 0, 0, 3, 0, 0\n",
      "$ PI 40 años y más T        <i64> 0, 0, 7, 0, 0, 0, 3, 3, 0, 0\n",
      "\n"
     ]
    }
   ],
   "source": [
    "polarsdf.glimpse()"
   ]
  },
  {
   "cell_type": "code",
   "execution_count": 1,
   "id": "e65fb03b-56f9-4b32-aa55-cd57075136d9",
   "metadata": {},
   "outputs": [],
   "source": [
    "import sys"
   ]
  },
  {
   "cell_type": "code",
   "execution_count": 2,
   "id": "484718cc-7da2-4323-84c0-3d3e92d53700",
   "metadata": {},
   "outputs": [
    {
     "name": "stdout",
     "output_type": "stream",
     "text": [
      "3.11.4 (tags/v3.11.4:d2340ef, Jun  7 2023, 05:45:37) [MSC v.1934 64 bit (AMD64)]\n"
     ]
    }
   ],
   "source": [
    "print(sys.version)\n"
   ]
  },
  {
   "cell_type": "code",
   "execution_count": null,
   "id": "894a68e5-c5d9-4d9d-8852-3510dd575ecd",
   "metadata": {},
   "outputs": [],
   "source": []
  }
 ],
 "metadata": {
  "kernelspec": {
   "display_name": "Python 3 (ipykernel)",
   "language": "python",
   "name": "python3"
  },
  "language_info": {
   "codemirror_mode": {
    "name": "ipython",
    "version": 3
   },
   "file_extension": ".py",
   "mimetype": "text/x-python",
   "name": "python",
   "nbconvert_exporter": "python",
   "pygments_lexer": "ipython3",
   "version": "3.12.2"
  }
 },
 "nbformat": 4,
 "nbformat_minor": 5
}
