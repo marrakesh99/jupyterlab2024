{
 "cells": [
  {
   "cell_type": "code",
   "execution_count": 10,
   "id": "527c7b7c-4b12-4274-a433-22f495fb59a7",
   "metadata": {},
   "outputs": [
    {
     "name": "stdout",
     "output_type": "stream",
     "text": [
      "hola\n",
      "adios\n"
     ]
    }
   ],
   "source": [
    "#comentario\n",
    "print(\"hola\")\n",
    "print(\"adios\")\n"
   ]
  },
  {
   "cell_type": "code",
   "execution_count": 11,
   "id": "2ed0fdbb-0d3f-4134-97f6-bcdb02e6010f",
   "metadata": {},
   "outputs": [
    {
     "data": {
      "text/plain": [
       "int"
      ]
     },
     "execution_count": 11,
     "metadata": {},
     "output_type": "execute_result"
    }
   ],
   "source": [
    "type(1)"
   ]
  },
  {
   "cell_type": "code",
   "execution_count": 14,
   "id": "9caf6994-073d-4733-8ee7-2b39317f3ff5",
   "metadata": {},
   "outputs": [
    {
     "data": {
      "text/plain": [
       "float"
      ]
     },
     "execution_count": 14,
     "metadata": {},
     "output_type": "execute_result"
    }
   ],
   "source": [
    "type(2.3\n",
    "    )"
   ]
  },
  {
   "cell_type": "code",
   "execution_count": 33,
   "id": "d80abc40-8b6b-43a5-b8e8-c84fb1952a0a",
   "metadata": {},
   "outputs": [
    {
     "data": {
      "text/plain": [
       "'HELLO WORLD'"
      ]
     },
     "execution_count": 33,
     "metadata": {},
     "output_type": "execute_result"
    }
   ],
   "source": [
    "type(False)\n",
    "\"Hello World\".upper()"
   ]
  },
  {
   "cell_type": "code",
   "execution_count": null,
   "id": "d9e9a85a-286b-476e-8afc-0dfe1fe4e335",
   "metadata": {
    "editable": true,
    "slideshow": {
     "slide_type": ""
    },
    "tags": []
   },
   "outputs": [],
   "source": []
  },
  {
   "cell_type": "code",
   "execution_count": null,
   "id": "d2bb87a1-165c-490b-ad84-bfa846d94cef",
   "metadata": {},
   "outputs": [],
   "source": []
  },
  {
   "cell_type": "code",
   "execution_count": 1,
   "id": "0c276608-b375-446e-b492-bb7a1d15b202",
   "metadata": {},
   "outputs": [
    {
     "data": {
      "text/plain": [
       "'Hellu Wurld'"
      ]
     },
     "execution_count": 1,
     "metadata": {},
     "output_type": "execute_result"
    }
   ],
   "source": [
    " \"Hello World\".replace(\"o\",\"u\")\n"
   ]
  },
  {
   "cell_type": "code",
   "execution_count": 2,
   "id": "83686662-75b8-4cf2-b0cd-58c154217ff1",
   "metadata": {},
   "outputs": [],
   "source": [
    "import pandas as pd"
   ]
  },
  {
   "cell_type": "code",
   "execution_count": 1,
   "id": "1c211cdf-1c10-4efc-8a0a-d85f0afb7f19",
   "metadata": {},
   "outputs": [],
   "source": [
    "import pandas as pd\n"
   ]
  },
  {
   "cell_type": "code",
   "execution_count": 2,
   "id": "e9cfd25f-f163-472f-8b27-faad343e7a37",
   "metadata": {},
   "outputs": [],
   "source": [
    "import os"
   ]
  },
  {
   "cell_type": "code",
   "execution_count": 3,
   "id": "1c558d5c-8a7f-4181-8a5e-3fa506cc2d89",
   "metadata": {},
   "outputs": [
    {
     "data": {
      "text/plain": [
       "'C:\\\\Mis Proyectos\\\\jupyterlab2024'"
      ]
     },
     "execution_count": 3,
     "metadata": {},
     "output_type": "execute_result"
    }
   ],
   "source": [
    "os.getcwd()"
   ]
  },
  {
   "cell_type": "code",
   "execution_count": 4,
   "id": "374d98c1-5ef8-4128-8808-4b37ab38f16a",
   "metadata": {},
   "outputs": [
    {
     "data": {
      "text/plain": [
       "['.git', '.ipynb_checkpoints', '27mzo.ipynb']"
      ]
     },
     "execution_count": 4,
     "metadata": {},
     "output_type": "execute_result"
    }
   ],
   "source": [
    "os.listdir()"
   ]
  },
  {
   "cell_type": "code",
   "execution_count": 6,
   "id": "8011f547-c695-487e-b65a-041a0b42d3a3",
   "metadata": {},
   "outputs": [
    {
     "name": "stdout",
     "output_type": "stream",
     "text": [
      "CPU times: total: 4min 41s\n",
      "Wall time: 4min 49s\n"
     ]
    }
   ],
   "source": [
    "%time pandasdf = pd.read_excel(\"Base SEP Licenciatura 2011-2023 version corta (datos preliminares de 2023 a febrero 2024).xlsx\")"
   ]
  },
  {
   "cell_type": "code",
   "execution_count": 9,
   "id": "70c6fbb0-7e77-45e9-b872-24f4c5aa9df9",
   "metadata": {},
   "outputs": [
    {
     "data": {
      "text/plain": [
       "203.24750137329102"
      ]
     },
     "execution_count": 9,
     "metadata": {},
     "output_type": "execute_result"
    }
   ],
   "source": [
    "pandasdf.memory_usage().sum()/1024**2\n"
   ]
  },
  {
   "cell_type": "code",
   "execution_count": 10,
   "id": "ba0a501c-ce01-4408-84aa-0f7e5e2ec022",
   "metadata": {},
   "outputs": [],
   "source": [
    "import polars as pl"
   ]
  },
  {
   "cell_type": "code",
   "execution_count": 15,
   "id": "08640c8f-6f05-4c50-bf14-c09fd6bdef4c",
   "metadata": {},
   "outputs": [
    {
     "name": "stdout",
     "output_type": "stream",
     "text": [
      "CPU times: total: 2min 4s\n",
      "Wall time: 2min 4s\n"
     ]
    }
   ],
   "source": [
    "%time polarsdf = pl.read_excel(\"Base SEP Licenciatura 2011-2023 version corta (datos preliminares de 2023 a febrero 2024).xlsx\",sheet_id=1)"
   ]
  },
  {
   "cell_type": "code",
   "execution_count": 16,
   "id": "a13de9af-ddf2-4fd9-889e-ebb4650ad090",
   "metadata": {},
   "outputs": [
    {
     "data": {
      "text/plain": [
       "264.049298286438"
      ]
     },
     "execution_count": 16,
     "metadata": {},
     "output_type": "execute_result"
    }
   ],
   "source": [
    "polarsdf.estimated_size(\"mb\")"
   ]
  },
  {
   "cell_type": "code",
   "execution_count": null,
   "id": "1ce47344-eed4-4fe0-8d6f-1a27a26cba33",
   "metadata": {},
   "outputs": [],
   "source": []
  }
 ],
 "metadata": {
  "kernelspec": {
   "display_name": "Python 3 (ipykernel)",
   "language": "python",
   "name": "python3"
  },
  "language_info": {
   "codemirror_mode": {
    "name": "ipython",
    "version": 3
   },
   "file_extension": ".py",
   "mimetype": "text/x-python",
   "name": "python",
   "nbconvert_exporter": "python",
   "pygments_lexer": "ipython3",
   "version": "3.11.4"
  }
 },
 "nbformat": 4,
 "nbformat_minor": 5
}
